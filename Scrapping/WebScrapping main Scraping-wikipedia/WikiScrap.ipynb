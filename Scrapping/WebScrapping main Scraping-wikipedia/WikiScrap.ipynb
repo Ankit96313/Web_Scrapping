{
 "cells": [
  {
   "cell_type": "code",
   "execution_count": 5,
   "id": "d76c6f61-5704-4bd0-b0a8-66ffefb6d7e7",
   "metadata": {},
   "outputs": [],
   "source": [
    "import requests\n",
    "from bs4 import BeautifulSoup \n"
   ]
  },
  {
   "cell_type": "code",
   "execution_count": 1,
   "id": "73028ad7-70c5-4eb4-b49a-73c25271a9c8",
   "metadata": {},
   "outputs": [
    {
     "name": "stdin",
     "output_type": "stream",
     "text": [
      "search  Narendra modi\n"
     ]
    },
    {
     "name": "stdout",
     "output_type": "stream",
     "text": [
      "https://www.google.com/search?q=Narendra+modi+wikipedia\n"
     ]
    }
   ],
   "source": [
    "name = input(\"search \").replace(\" \",\"+\")\n",
    "link = \"https://www.google.com/search?q=\"\n",
    "link = link+name +\"+wikipedia\"\n",
    "print(link)"
   ]
  },
  {
   "cell_type": "code",
   "execution_count": 3,
   "id": "06aaa4aa-9a2c-414a-b4ac-75579996344c",
   "metadata": {},
   "outputs": [
    {
     "ename": "NameError",
     "evalue": "name 'requests' is not defined",
     "output_type": "error",
     "traceback": [
      "\u001b[1;31m---------------------------------------------------------------------------\u001b[0m",
      "\u001b[1;31mNameError\u001b[0m                                 Traceback (most recent call last)",
      "Cell \u001b[1;32mIn[3], line 1\u001b[0m\n\u001b[1;32m----> 1\u001b[0m res \u001b[38;5;241m=\u001b[39m requests\u001b[38;5;241m.\u001b[39mget(link)\n\u001b[0;32m      3\u001b[0m soup \u001b[38;5;241m=\u001b[39m BeautifulSoup(res\u001b[38;5;241m.\u001b[39mtext,\u001b[38;5;124m\"\u001b[39m\u001b[38;5;124mhtml.parser\u001b[39m\u001b[38;5;124m\"\u001b[39m)\n\u001b[0;32m      6\u001b[0m \u001b[38;5;28;01mfor\u001b[39;00m sp \u001b[38;5;129;01min\u001b[39;00m soup\u001b[38;5;241m.\u001b[39mfind_all(\u001b[38;5;124m'\u001b[39m\u001b[38;5;124mdiv\u001b[39m\u001b[38;5;124m'\u001b[39m):\n",
      "\u001b[1;31mNameError\u001b[0m: name 'requests' is not defined"
     ]
    }
   ],
   "source": [
    "res = requests.get(link)\n",
    "\n",
    "soup = BeautifulSoup(res.text,\"html.parser\")\n",
    "\n",
    "\n",
    "for sp in soup.find_all('div'):\n",
    "    try:\n",
    "        l = sp.find('a').get('href')\n",
    "        \n",
    "        if('en.wikipedia.org' in l):\n",
    "            \n",
    "            break\n",
    "            \n",
    "    except:\n",
    "        pass\n",
    "\n",
    "l = (l[7:]).split('&')[0]\n",
    "print(l)\n",
    "\n",
    "\n"
   ]
  },
  {
   "cell_type": "code",
   "execution_count": 96,
   "id": "65575c35-a068-4bbe-b9fd-4adada142558",
   "metadata": {},
   "outputs": [],
   "source": [
    "ress = requests.get(l)\n",
    "so = BeautifulSoup(ress.text ,\"html.parser\")\n",
    "corpus = \"\"\n",
    "for i in so.find_all(\"p\"):\n",
    "    corpus+=i.text"
   ]
  },
  {
   "cell_type": "code",
   "execution_count": 106,
   "id": "3fcec60c-b337-465a-a027-23945a87c6aa",
   "metadata": {},
   "outputs": [
    {
     "name": "stdout",
     "output_type": "stream",
     "text": [
      "\n",
      "Vidyut Dev Singh Jammwal (born 12 December 1980) is an Indian actor, martial artist and film producer who predominantly works in Hindi films. He is also a practitioner of Kalaripayattu, which he showcased in the film Junglee (2019). He is best known for his roles in the Commando film series, and is a recipient of several accolades, including a Stardust Award, FICCI Frames Award, Filmfare Award, and IIFA Award.\n",
      "He made his acting debut in the Telugu film Sakthi (2011), and made his first Bollywood appearance in Force (2011). Starting out in negative roles, his first lead role was in the martial arts film Commando (2013). He has also appeared in films such as Anjaan (2014), Thuppakki (2012), Baadshaho, Commando 2 (both in 2017), Yaara (2020), Commando 3 (2019) and Sanak (2021).\n",
      "He ranked in The Times of India's listing of India's Top 10 Most Desirable Men in 2012 and 2013. Men's Health declared him as List of Best Bodies and Top 5 Fittest Men in 2011 and 2012 respectively. In 2012, People Magazine India listed him in as one of The Sexiest Men Alive.\n",
      "Vidyut Jammwal was born in Jammu, India in a Rajput family.  He is one of three children born to an Army officer and lived in various parts of India (owing to his father's transferable job) and trained in Kalaripayattu in an ashram in Palakkad, Kerala which was run by his mother, since he was three years old. He traveled to many countries training with martial artists in various forms, some of which find their base in Kalaripayattu. Jammwal travelled to over 25 countries, where he performed in live action shows. Growing up, Jammwal was inspired by Jackie Chan.\n",
      "Jammwal made his Bollywood debut with the John Abraham starrer action film Force (2011), a remake of the Tamil-language film Kaakha Kaakha. He played a negative role in the film and won the Filmfare Award for Best Male Debut. In the same year, Jammwal featured in negative roles in the Telugu-language films Shakti and Oosaravelli, both starring NTR.\n",
      "In 2012, Jammwal made his debut in Tamil cinema with Billa II, as the antagonist opposite Ajith Kumar which earned him critical appreciation. He also played the antagonist in Thuppakki opposite actor Vijay, which became a blockbuster. For his performance in the film, he received a SIIMA Award for Best Actor in a Negative Role.\n",
      "Jammwal later acted in Hindi-language film Commando as a protagonist and performing real-world combat-based action without the aid of stuntmen. The film was showcased internationally for the first time in July 2013 at the Fantasia Film Fest in Montreal, followed by a screening at the Fantastic Fest in Texas in September 2013. He received positive feedback from international media and action directors, calling him India's answer to Bruce Lee and Tony Jaa. After the success of Commando, he played a sharpshooter cop in Tigmanshu Dhulia's Bullett Raja. In 2014, he played a supporting role in the Tamil-language film Anjaan, alongside Suriya. In 2017, he starred in Commando 2, the sequel to Commando, which became a box office success. Baadshaho was his next release that year in which he played Major Seher Singh, the movie did average business worldwide.\n",
      "In 2019, Jammwal starred in American director Chuck Russell's first Bollywood film Junglee and Commando 3. The latter saw him returning to the Commando series and became the most successful film in the franchise. His next project was Tigmanshu Dhulia's Yaara, an official remake of the French film Les Lyonnais. Yaara was one of three films Vidyut signed for – the other two being large format films by director Ram Madhvani, creating an aura similar to the Hollywood flick 300. In 2020, he appeared in an action thriller Khuda Haafiz which was inspired from real life events. The movie became his biggest opener ever and its sequel Khuda Haafiz Chapter II was announced with same leads. He also played the lead role in the movie Sanak. In 2024, Jammwal starred in the sports action film Crakk which he also produced; it emerged a major failure.\n",
      "Jammwal has been part of a number of popular magazine lists. He ranked in The Times of India's listing of India's Top 10 Most Desirable Men in 2012 and 2013. Men's Health declared him as List of Best Bodies and Top 5 Fittest Men in 2011 and 2012 respectively. In 2012, People Magazine India  listed him in as one of The Sexiest Men Alive. In 2014, He was honoured as PETA's Hottest Vegetarian along with Kangana Ranaut.[citation needed]\n",
      "Jammwal is a vegan and a rock climber.\n",
      "On 1 September 2021, Vidyut Jamwal announced his engagement with Indian fashion designer Nandita Mahtani. In 2023, Jammwal and Mahtani broke their engagement. A year later, Jammwal worked in a French circus for 14 days as one of his various attempts to compensate the losses incurred through Crakk.\n",
      "\n"
     ]
    }
   ],
   "source": [
    "\n",
    "for i in range(1,100):\n",
    "    corpus = corpus.replace(\"[\"+str(i)+\"]\",\"\")\n",
    "\n",
    "print(corpus)"
   ]
  },
  {
   "cell_type": "code",
   "execution_count": 112,
   "id": "2391cddc-5412-4c27-979c-3a0f105f502b",
   "metadata": {},
   "outputs": [],
   "source": [
    "fd = open(\"about.txt\", \"w\")\n",
    "fd.write(corpus)\n",
    "fd.close()"
   ]
  },
  {
   "cell_type": "code",
   "execution_count": null,
   "id": "d9fa4de4-cc3a-464e-a7c1-7023c2ccf15c",
   "metadata": {},
   "outputs": [],
   "source": []
  }
 ],
 "metadata": {
  "kernelspec": {
   "display_name": "Python 3 (ipykernel)",
   "language": "python",
   "name": "python3"
  },
  "language_info": {
   "codemirror_mode": {
    "name": "ipython",
    "version": 3
   },
   "file_extension": ".py",
   "mimetype": "text/x-python",
   "name": "python",
   "nbconvert_exporter": "python",
   "pygments_lexer": "ipython3",
   "version": "3.11.7"
  }
 },
 "nbformat": 4,
 "nbformat_minor": 5
}
